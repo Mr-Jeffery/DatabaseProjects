{
 "cells": [
  {
   "cell_type": "code",
   "execution_count": null,
   "metadata": {},
   "outputs": [],
   "source": [
    "!pip install fastapi uvicorn pywebio requests\n"
   ]
  },
  {
   "cell_type": "code",
   "execution_count": null,
   "metadata": {},
   "outputs": [],
   "source": [
    "import os\n",
    "os._exit(00)\n"
   ]
  },
  {
   "cell_type": "code",
   "execution_count": null,
   "metadata": {},
   "outputs": [],
   "source": [
    "import nest_asyncio\n",
    "nest_asyncio.apply()\n"
   ]
  },
  {
   "cell_type": "code",
   "execution_count": null,
   "metadata": {},
   "outputs": [],
   "source": [
    "from fastapi import FastAPI\n",
    "from pydantic import BaseModel\n",
    "\n",
    "app = FastAPI()\n",
    "\n",
    "class Station(BaseModel):\n",
    "    name: str\n",
    "\n",
    "@app.post(\"/add_station\")\n",
    "async def add_station(station: Station):\n",
    "    return {\"message\": f\"Station {station.name} added successfully!\"}\n"
   ]
  },
  {
   "cell_type": "code",
   "execution_count": null,
   "metadata": {},
   "outputs": [],
   "source": [
    "import uvicorn\n",
    "import asyncio\n",
    "\n",
    "async def app_runner():\n",
    "    config = uvicorn.Config(app=app, host=\"127.0.0.1\", port=8000, log_level=\"info\")\n",
    "    server = uvicorn.Server(config)\n",
    "    await server.serve()\n",
    "\n",
    "loop = asyncio.get_event_loop()\n",
    "task = loop.create_task(app_runner())\n"
   ]
  },
  {
   "cell_type": "code",
   "execution_count": null,
   "metadata": {},
   "outputs": [],
   "source": [
    "from pywebio import start_server\n",
    "from pywebio.output import put_html, clear, popup\n",
    "from pywebio.input import input, select\n",
    "\n",
    "def set_custom_style():\n",
    "    \"\"\" Apply custom CSS for better styling of the interface \"\"\"\n",
    "    put_html(\"\"\"\n",
    "    <style>\n",
    "        body { font-family: Arial, sans-serif; }\n",
    "        .pywebio-output-separator { display: none; }  /* Hide default separators */\n",
    "        button { margin: 5px; }\n",
    "    </style>\n",
    "    \"\"\")\n",
    "\n",
    "def admin_interface():\n",
    "    \"\"\" Administrator Interface for station and line management \"\"\"\n",
    "    clear()\n",
    "    put_html(\"<h2>Administrator Interface</h2>\")\n",
    "    action = select(\"Choose operation\", options=[\n",
    "        (\"Add Station\", \"add_station\"),\n",
    "        (\"Modify Station\", \"modify_station\"),\n",
    "        (\"Delete Station\", \"delete_station\"),\n",
    "        (\"Add Line\", \"add_line\"),\n",
    "        (\"Modify Line\", \"modify_line\"),\n",
    "        (\"Delete Line\", \"delete_line\"),\n",
    "        (\"View Onboard Passengers\", \"view_onboard\")\n",
    "    ])\n",
    "    \n",
    "    if action.startswith(\"add_\") or action.startswith(\"modify_\") or action == \"delete_station\":\n",
    "        station_name = input(f\"{action.replace('_', ' ').title()} - Enter station name:\")\n",
    "        # Call API or perform operation\n",
    "        popup(\"Success\", f\"Operation '{action}' completed for {station_name}\")\n",
    "    elif action == \"view_onboard\":\n",
    "        # Simulation: Fetch and display onboard passengers\n",
    "        popup(\"Onboard Passengers\", \"Passenger 1, Passenger 2\")\n",
    "\n",
    "def user_interface():\n",
    "    \"\"\" User Interface for passenger management \"\"\"\n",
    "    clear()\n",
    "    put_html(\"<h2>User Interface</h2>\")\n",
    "    action = select(\"Choose operation\", [\"Board Passenger\", \"Exit Passenger\"])\n",
    "    \n",
    "    if action == \"Board Passenger\":\n",
    "        station_name = input(\"Enter boarding station:\")\n",
    "        # Simulate API call for boarding\n",
    "        popup(\"Boarding Successful at\", station_name)\n",
    "    elif action == \"Exit Passenger\":\n",
    "        station_name = input(\"Enter exit station:\")\n",
    "        # Simulate API call for exiting\n",
    "        popup(\"Exit Successful from\", station_name)\n",
    "\n",
    "def main():\n",
    "    \"\"\" Main function to manage session and layout \"\"\"\n",
    "    set_custom_style()\n",
    "    \n",
    "    put_html('<button onclick=\"pywebio.output.clear(); admin_interface()\">Admin Interface</button>')\n",
    "    put_html('<button onclick=\"pywebio.output.clear(); user_interface()\">User Interface</button>')\n",
    "    user_interface()  # Default to admin interface on load\n",
    "\n",
    "start_server(main, port=8080, debug=True)\n"
   ]
  }
 ],
 "metadata": {
  "kernelspec": {
   "display_name": "sql",
   "language": "python",
   "name": "python3"
  },
  "language_info": {
   "codemirror_mode": {
    "name": "ipython",
    "version": 3
   },
   "file_extension": ".py",
   "mimetype": "text/x-python",
   "name": "python",
   "nbconvert_exporter": "python",
   "pygments_lexer": "ipython3",
   "version": "3.12.2"
  }
 },
 "nbformat": 4,
 "nbformat_minor": 2
}
