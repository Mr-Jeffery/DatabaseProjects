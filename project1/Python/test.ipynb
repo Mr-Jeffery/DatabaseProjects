{
 "cells": [
  {
   "cell_type": "code",
   "execution_count": 1,
   "metadata": {},
   "outputs": [],
   "source": [
    "import psycopg2\n",
    "import os\n",
    "from dotenv import load_dotenv\n",
    "load_dotenv()\n",
    "db_name = os.environ.get('DB_NAME')\n",
    "db_user = os.environ.get('DB_USER')\n",
    "db_password = os.environ.get('DB_PASSWORD')\n",
    "db_host = os.environ.get('DB_HOST')\n",
    "db_port = os.environ.get('DB_PORT')\n",
    "conn = psycopg2.connect(dbname=db_name, user=db_user, password=db_password, host=db_host, port=db_port)\n"
   ]
  },
  {
   "cell_type": "code",
   "execution_count": 21,
   "metadata": {},
   "outputs": [],
   "source": [
    "class DatabaseManipulation:\n",
    "    def __init__(self):\n",
    "        self.conn = conn\n",
    "        self.cur = self.conn.cursor()\n",
    "    def findMovieById(self, id):\n",
    "        query = \"SELECT m.title, \\\n",
    "                c.country_name, \\\n",
    "                m.year_released, \\\n",
    "                m.runtime FROM movies m JOIN countries c ON m.country = c.country_code \\\n",
    "                WHERE m.movieid = %s\"\n",
    "        self.cur.execute(query, (id,))\n",
    "        result = self.cur.fetchone()\n",
    "        return result\n"
   ]
  },
  {
   "cell_type": "code",
   "execution_count": 23,
   "metadata": {},
   "outputs": [
    {
     "name": "stdout",
     "output_type": "stream",
     "text": [
      "('Al-mummia', 'Egypt', 1969, 102)\n"
     ]
    }
   ],
   "source": [
    "q = DatabaseManipulation()\n",
    "q.cur = conn.cursor()\n",
    "print(q.findMovieById(2))"
   ]
  }
 ],
 "metadata": {
  "kernelspec": {
   "display_name": "sql",
   "language": "python",
   "name": "python3"
  },
  "language_info": {
   "codemirror_mode": {
    "name": "ipython",
    "version": 3
   },
   "file_extension": ".py",
   "mimetype": "text/x-python",
   "name": "python",
   "nbconvert_exporter": "python",
   "pygments_lexer": "ipython3",
   "version": "3.12.2"
  }
 },
 "nbformat": 4,
 "nbformat_minor": 2
}
